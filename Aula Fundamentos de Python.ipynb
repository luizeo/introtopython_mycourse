{
 "cells": [
  {
   "cell_type": "markdown",
   "metadata": {},
   "source": [
    "# 1.Carectérísticas de python\n",
    "     1.1 Linguagem Orientada Objeto\n",
    "     1.2 Linguagem intepretada\n",
    "     1.3 Linguagem Fortemente tipada\n",
    "     1.4 Linguagem de Tipagem dinâmica\n",
    "          \n",
    "# 2.Variáveis em Python\n",
    "     2.1 Tipos de variáveis (dados)\n",
    "     2.2 Entrada e Saída\n",
    "     2.3 Expressões Matemáticas\n",
    "     2.4 Expressões Lógicas\n",
    "     \n",
    "# 3.Estruturas de Decisão\n",
    "     3.1 IF...ELIF...ELSE...\n",
    "# 4.Estruturas de Repetição\n",
    "     4.1 While/for"
   ]
  },
  {
   "cell_type": "markdown",
   "metadata": {},
   "source": [
    "### Tipos de Dados em Python"
   ]
  },
  {
   "cell_type": "code",
   "execution_count": 1,
   "metadata": {},
   "outputs": [],
   "source": [
    "# Inteiro\n",
    "numInt = 40\n",
    "#float\n",
    "numfloat = 1.5\n",
    "#String\n",
    "numStr = \"Francisco\"\n",
    "#Lógico\n",
    "logico = True"
   ]
  },
  {
   "cell_type": "markdown",
   "metadata": {},
   "source": [
    "### Entrada de dados"
   ]
  },
  {
   "cell_type": "code",
   "execution_count": 3,
   "metadata": {},
   "outputs": [
    {
     "name": "stdout",
     "output_type": "stream",
     "text": [
      "Digite um nome: Luiz\n"
     ]
    }
   ],
   "source": [
    "nome = input(\"Digite um nome: \")"
   ]
  },
  {
   "cell_type": "markdown",
   "metadata": {},
   "source": [
    "### Entrada de dados com conversão de tipo"
   ]
  },
  {
   "cell_type": "code",
   "execution_count": 4,
   "metadata": {},
   "outputs": [
    {
     "name": "stdout",
     "output_type": "stream",
     "text": [
      "Digite uma número: 2\n",
      "Resultado:  3\n"
     ]
    }
   ],
   "source": [
    "num = int(input(\"Digite uma número: \"))\n",
    "\n",
    "#num = num + 1\n",
    "num += 1\n",
    "print(\"Resultado: \", num)"
   ]
  },
  {
   "cell_type": "markdown",
   "metadata": {},
   "source": [
    "### Saída dados formatada"
   ]
  },
  {
   "cell_type": "code",
   "execution_count": 12,
   "metadata": {},
   "outputs": [
    {
     "name": "stdout",
     "output_type": "stream",
     "text": [
      "Luiz digitou o número:12.12 e o numero:50.35\n",
      "Luiz digitou o número:12.12 e o numero:50.35\n"
     ]
    }
   ],
   "source": [
    "num = 12.1234\n",
    "num2 = 50.34556\n",
    "print(f\"Luiz digitou o número:{num:.2f} e o numero:{num2:.2f}\") # estratégia 1\n",
    "print(\"Luiz digitou o número:{0:.2f} e o numero:{1:.2f}\".format(num, num2)) # estratégia 2"
   ]
  },
  {
   "cell_type": "markdown",
   "metadata": {},
   "source": [
    "#### Exemplo: Faça um Programa que peça as 4 notas bimestrais e mostre a média."
   ]
  },
  {
   "cell_type": "code",
   "execution_count": 13,
   "metadata": {},
   "outputs": [
    {
     "name": "stdout",
     "output_type": "stream",
     "text": [
      "Digite a nota 1: 5.5\n",
      "Digite a nota 2: 6.9\n",
      "Digite a nota 3: 7.5\n",
      "Digite a nota 4: 3.5\n",
      "A média do aluno(a) é:5.85\n"
     ]
    }
   ],
   "source": [
    "n1 = float(input(\"Digite a nota 1: \"))\n",
    "n2 = float(input(\"Digite a nota 2: \"))\n",
    "n3 = float(input(\"Digite a nota 3: \"))\n",
    "n4 = float(input(\"Digite a nota 4: \"))\n",
    "media = (n1 + n2 + n3 + n4)/4\n",
    "print(\"A média do aluno(a) é:{0:.2f}\".format(media))"
   ]
  },
  {
   "cell_type": "markdown",
   "metadata": {},
   "source": [
    "#### Exemplo: Tendo como dados de entrada a altura de uma pessoa, construa um algoritmo que calcule seu peso ideal, usando a seguinte fórmula: (72.7*altura) - 58"
   ]
  },
  {
   "cell_type": "code",
   "execution_count": 16,
   "metadata": {},
   "outputs": [
    {
     "name": "stdout",
     "output_type": "stream",
     "text": [
      "O peso ideal do cidadão é:75.77\n"
     ]
    }
   ],
   "source": [
    "altura = 1.84\n",
    "pesoIdeal = (72.7*altura) - 58\n",
    "print(\"O peso ideal do cidadão é:{:.2f}\".format(pesoIdeal))"
   ]
  },
  {
   "cell_type": "markdown",
   "metadata": {},
   "source": [
    "### Estrutura de decisão IF...ELIF...ELSE"
   ]
  },
  {
   "cell_type": "code",
   "execution_count": 17,
   "metadata": {},
   "outputs": [
    {
     "name": "stdout",
     "output_type": "stream",
     "text": [
      "Digite a nota 1: 3\n",
      "Digite a nota 2: 9\n",
      "Digite a nota 3: 4.5\n",
      "Digite a nota 4: 9.2\n",
      "A média do aluno(a) é:6.42\n",
      "Recuperação\n"
     ]
    }
   ],
   "source": [
    "n1 = float(input(\"Digite a nota 1: \"))\n",
    "n2 = float(input(\"Digite a nota 2: \"))\n",
    "n3 = float(input(\"Digite a nota 3: \"))\n",
    "n4 = float(input(\"Digite a nota 4: \"))\n",
    "media = (n1 + n2 + n3 + n4)/4\n",
    "print(\"A média do aluno(a) é:{0:.2f}\".format(media))\n",
    "\n",
    "if (media >= 7):\n",
    "    print(\"Pessoa aprovada!\")\n",
    "elif media >= 5 and media < 7:\n",
    "    print(\"Recuperação\")\n",
    "else:\n",
    "    print(\"Reprovado!\")\n",
    "    \n"
   ]
  },
  {
   "cell_type": "markdown",
   "metadata": {},
   "source": [
    "### Estrutura de repetição FOR"
   ]
  },
  {
   "cell_type": "code",
   "execution_count": 4,
   "metadata": {},
   "outputs": [
    {
     "name": "stdout",
     "output_type": "stream",
     "text": [
      "[1, 2, 3, 4, 5, 6, 7, 8, 9, 10]\n"
     ]
    }
   ],
   "source": [
    "r = range(1,11)\n",
    "r\n",
    "l = list(r)\n",
    "print(l)"
   ]
  },
  {
   "cell_type": "code",
   "execution_count": 12,
   "metadata": {},
   "outputs": [],
   "source": [
    "lista = l.copy()"
   ]
  },
  {
   "cell_type": "code",
   "execution_count": 17,
   "metadata": {},
   "outputs": [
    {
     "data": {
      "text/plain": [
       "list"
      ]
     },
     "execution_count": 17,
     "metadata": {},
     "output_type": "execute_result"
    }
   ],
   "source": [
    "lista"
   ]
  },
  {
   "cell_type": "code",
   "execution_count": 20,
   "metadata": {},
   "outputs": [],
   "source": [
    "lista.append([31,32,34,35])"
   ]
  },
  {
   "cell_type": "code",
   "execution_count": 21,
   "metadata": {},
   "outputs": [
    {
     "data": {
      "text/plain": [
       "[1, 2, 3, 4, 5, 6, 7, 8, 9, 10, 11, 12, 31, 32, 34, 35, [31, 32, 34, 35]]"
      ]
     },
     "execution_count": 21,
     "metadata": {},
     "output_type": "execute_result"
    }
   ],
   "source": [
    "lista"
   ]
  },
  {
   "cell_type": "code",
   "execution_count": 42,
   "metadata": {},
   "outputs": [],
   "source": [
    "l.insert(6,True)"
   ]
  },
  {
   "cell_type": "code",
   "execution_count": 43,
   "metadata": {},
   "outputs": [
    {
     "data": {
      "text/plain": [
       "[23, 31, 'Pedro', 40, 2.5, True]"
      ]
     },
     "execution_count": 43,
     "metadata": {},
     "output_type": "execute_result"
    }
   ],
   "source": [
    "l"
   ]
  },
  {
   "cell_type": "code",
   "execution_count": 48,
   "metadata": {},
   "outputs": [
    {
     "data": {
      "text/plain": [
       "'Pedro'"
      ]
     },
     "execution_count": 48,
     "metadata": {},
     "output_type": "execute_result"
    }
   ],
   "source": [
    "l.pop(1)"
   ]
  },
  {
   "cell_type": "code",
   "execution_count": 56,
   "metadata": {},
   "outputs": [],
   "source": [
    "l.append(False)"
   ]
  },
  {
   "cell_type": "code",
   "execution_count": 59,
   "metadata": {},
   "outputs": [
    {
     "data": {
      "text/plain": [
       "[True, 1.5, 31, 40, 45, 'Marcos', False]"
      ]
     },
     "execution_count": 59,
     "metadata": {},
     "output_type": "execute_result"
    }
   ],
   "source": [
    "l"
   ]
  },
  {
   "cell_type": "code",
   "execution_count": 61,
   "metadata": {},
   "outputs": [
    {
     "data": {
      "text/plain": [
       "[]"
      ]
     },
     "execution_count": 61,
     "metadata": {},
     "output_type": "execute_result"
    }
   ],
   "source": [
    "lista1 = list()\n",
    "lista1"
   ]
  },
  {
   "cell_type": "code",
   "execution_count": 62,
   "metadata": {},
   "outputs": [],
   "source": [
    "list1 = [34,45,89,12,1,5,2]"
   ]
  },
  {
   "cell_type": "code",
   "execution_count": 63,
   "metadata": {},
   "outputs": [],
   "source": [
    "list1.sort()"
   ]
  },
  {
   "cell_type": "code",
   "execution_count": 65,
   "metadata": {},
   "outputs": [],
   "source": [
    "list1.sort(reverse=True)"
   ]
  },
  {
   "cell_type": "code",
   "execution_count": 66,
   "metadata": {},
   "outputs": [
    {
     "data": {
      "text/plain": [
       "[89, 45, 34, 12, 5, 2, 1]"
      ]
     },
     "execution_count": 66,
     "metadata": {},
     "output_type": "execute_result"
    }
   ],
   "source": [
    "list1"
   ]
  },
  {
   "cell_type": "code",
   "execution_count": 5,
   "metadata": {},
   "outputs": [
    {
     "name": "stdout",
     "output_type": "stream",
     "text": [
      "O valor 1 é ímpar!\n",
      "O valor 2 é par!\n",
      "O valor 3 é ímpar!\n",
      "O valor 4 é par!\n",
      "O valor 5 é ímpar!\n",
      "O valor 6 é par!\n",
      "O valor 7 é ímpar!\n",
      "O valor 8 é par!\n",
      "O valor 9 é ímpar!\n",
      "O valor 10 é par!\n"
     ]
    }
   ],
   "source": [
    "for i in r:\n",
    "    if i % 2 == 0:\n",
    "        print(f\"O valor {i} é par!\")\n",
    "    else:\n",
    "        print(f\"O valor {i} é ímpar!\")\n"
   ]
  },
  {
   "attachments": {
    "image.png": {
     "image/png": "[encoded data removed]"
    }
   },
   "cell_type": "markdown",
   "metadata": {},
   "source": [
    "### Exemplo: Faça um programa de mostre 'fulano' o nome no formato de escada.\n",
    "![image.png](attachment:image.png)"
   ]
  },
  {
   "cell_type": "code",
   "execution_count": 25,
   "metadata": {},
   "outputs": [
    {
     "name": "stdout",
     "output_type": "stream",
     "text": [
      "LA\n"
     ]
    }
   ],
   "source": [
    "nome = \"fulano\".upper()\n",
    "print(nome[2:4])"
   ]
  },
  {
   "cell_type": "code",
   "execution_count": 69,
   "metadata": {},
   "outputs": [
    {
     "data": {
      "text/plain": [
       "[0, 1, 2, 3, 4, 5]"
      ]
     },
     "execution_count": 69,
     "metadata": {},
     "output_type": "execute_result"
    }
   ],
   "source": [
    "nome = \"fulano\".upper()\n",
    "lista = list(range(len(nome)))\n",
    "lista"
   ]
  },
  {
   "cell_type": "code",
   "execution_count": 70,
   "metadata": {},
   "outputs": [
    {
     "name": "stdout",
     "output_type": "stream",
     "text": [
      "F\n",
      "FU\n",
      "FUL\n",
      "FULA\n",
      "FULAN\n",
      "FULANO\n"
     ]
    }
   ],
   "source": [
    "for i in lista:\n",
    "    print(nome[0:i+1])\n",
    "\n",
    "# nome[0:0+1]\n",
    "# nome[0:1+1]\n",
    "# nome[0:2+1]\n",
    "# nome[0:3+1]\n",
    "# nome[0:4+1]"
   ]
  },
  {
   "cell_type": "code",
   "execution_count": 71,
   "metadata": {},
   "outputs": [
    {
     "name": "stdout",
     "output_type": "stream",
     "text": [
      "FULANO\n",
      "FULAN\n",
      "FULA\n",
      "FUL\n",
      "FU\n",
      "F\n"
     ]
    }
   ],
   "source": [
    "nome = \"fulano\".upper()\n",
    "for i in range(len(nome)):\n",
    "    print(nome[:len(nome)-i])\n",
    "\n",
    "# print(nome[:6-0])\n",
    "# print(nome[:6-1])\n",
    "# print(nome[:6-2])\n",
    "# print(nome[:6-3])\n",
    "# print(nome[:6-4])\n",
    "# print(nome[:6-5])"
   ]
  },
  {
   "cell_type": "markdown",
   "metadata": {},
   "source": [
    "### Estrutura de Repetição WHILE"
   ]
  },
  {
   "cell_type": "code",
   "execution_count": 74,
   "metadata": {},
   "outputs": [
    {
     "name": "stdout",
     "output_type": "stream",
     "text": [
      "1\n",
      "2\n",
      "3\n",
      "4\n",
      "5\n",
      "6\n",
      "7\n",
      "8\n",
      "9\n",
      "10\n"
     ]
    }
   ],
   "source": [
    "c = 1\n",
    "while c < 11:\n",
    "    print(c)\n",
    "    c += 1"
   ]
  },
  {
   "cell_type": "code",
   "execution_count": 78,
   "metadata": {},
   "outputs": [
    {
     "name": "stdout",
     "output_type": "stream",
     "text": [
      "30\n"
     ]
    }
   ],
   "source": [
    "def somar(a,b):\n",
    "    return a+b\n",
    "\n",
    "s = somar(10,20)\n",
    "print(s)"
   ]
  },
  {
   "cell_type": "code",
   "execution_count": 85,
   "metadata": {},
   "outputs": [],
   "source": [
    "t = tuple()"
   ]
  },
  {
   "cell_type": "code",
   "execution_count": 86,
   "metadata": {},
   "outputs": [
    {
     "data": {
      "text/plain": [
       "tuple"
      ]
     },
     "execution_count": 86,
     "metadata": {},
     "output_type": "execute_result"
    }
   ],
   "source": [
    "type(t)"
   ]
  },
  {
   "cell_type": "code",
   "execution_count": 87,
   "metadata": {},
   "outputs": [],
   "source": [
    "t = [1,2]"
   ]
  },
  {
   "cell_type": "code",
   "execution_count": 88,
   "metadata": {},
   "outputs": [
    {
     "data": {
      "text/plain": [
       "list"
      ]
     },
     "execution_count": 88,
     "metadata": {},
     "output_type": "execute_result"
    }
   ],
   "source": [
    "type(t)"
   ]
  },
  {
   "cell_type": "code",
   "execution_count": 83,
   "metadata": {},
   "outputs": [
    {
     "data": {
      "text/plain": [
       "[1, 3]"
      ]
     },
     "execution_count": 83,
     "metadata": {},
     "output_type": "execute_result"
    }
   ],
   "source": [
    "t"
   ]
  },
  {
   "cell_type": "code",
   "execution_count": null,
   "metadata": {},
   "outputs": [],
   "source": []
  }
 ],
 "metadata": {
  "kernelspec": {
   "display_name": "Python 3",
   "language": "python",
   "name": "python3"
  },
  "language_info": {
   "codemirror_mode": {
    "name": "ipython",
    "version": 3
   },
   "file_extension": ".py",
   "mimetype": "text/x-python",
   "name": "python",
   "nbconvert_exporter": "python",
   "pygments_lexer": "ipython3",
   "version": "3.8.3"
  }
 },
 "nbformat": 4,
 "nbformat_minor": 4
}
